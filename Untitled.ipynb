{
 "cells": [
  {
   "cell_type": "markdown",
   "id": "09a792e5",
   "metadata": {},
   "source": [
    "\n",
    "<h1>cheese clustering</h1>"
   ]
  },
  {
   "cell_type": "code",
   "execution_count": 66,
   "id": "203ece16",
   "metadata": {},
   "outputs": [],
   "source": [
    "import pandas as pd \n",
    "import numpy as np"
   ]
  },
  {
   "cell_type": "code",
   "execution_count": 67,
   "id": "f9467013",
   "metadata": {},
   "outputs": [],
   "source": [
    "#importation des données\n",
    "import pandas\n",
    "fromage = pandas.read_table(\"fromage.txt\",sep=\"\\t\",header=0,index_col=0)"
   ]
  },
  {
   "cell_type": "code",
   "execution_count": 68,
   "id": "845accc5",
   "metadata": {},
   "outputs": [
    {
     "data": {
      "text/html": [
       "<div>\n",
       "<style scoped>\n",
       "    .dataframe tbody tr th:only-of-type {\n",
       "        vertical-align: middle;\n",
       "    }\n",
       "\n",
       "    .dataframe tbody tr th {\n",
       "        vertical-align: top;\n",
       "    }\n",
       "\n",
       "    .dataframe thead th {\n",
       "        text-align: right;\n",
       "    }\n",
       "</style>\n",
       "<table border=\"1\" class=\"dataframe\">\n",
       "  <thead>\n",
       "    <tr style=\"text-align: right;\">\n",
       "      <th></th>\n",
       "      <th>calories</th>\n",
       "      <th>sodium</th>\n",
       "      <th>calcium</th>\n",
       "      <th>lipides</th>\n",
       "      <th>retinol</th>\n",
       "      <th>folates</th>\n",
       "      <th>proteines</th>\n",
       "      <th>cholesterol</th>\n",
       "      <th>magnesium</th>\n",
       "    </tr>\n",
       "    <tr>\n",
       "      <th>Fromages</th>\n",
       "      <th></th>\n",
       "      <th></th>\n",
       "      <th></th>\n",
       "      <th></th>\n",
       "      <th></th>\n",
       "      <th></th>\n",
       "      <th></th>\n",
       "      <th></th>\n",
       "      <th></th>\n",
       "    </tr>\n",
       "  </thead>\n",
       "  <tbody>\n",
       "    <tr>\n",
       "      <th>CarredelEst</th>\n",
       "      <td>314</td>\n",
       "      <td>353.5</td>\n",
       "      <td>72.6</td>\n",
       "      <td>26.3</td>\n",
       "      <td>51.6</td>\n",
       "      <td>30.3</td>\n",
       "      <td>21.0</td>\n",
       "      <td>70</td>\n",
       "      <td>20</td>\n",
       "    </tr>\n",
       "    <tr>\n",
       "      <th>Babybel</th>\n",
       "      <td>314</td>\n",
       "      <td>238.0</td>\n",
       "      <td>209.8</td>\n",
       "      <td>25.1</td>\n",
       "      <td>63.7</td>\n",
       "      <td>6.4</td>\n",
       "      <td>22.6</td>\n",
       "      <td>70</td>\n",
       "      <td>27</td>\n",
       "    </tr>\n",
       "    <tr>\n",
       "      <th>Beaufort</th>\n",
       "      <td>401</td>\n",
       "      <td>112.0</td>\n",
       "      <td>259.4</td>\n",
       "      <td>33.3</td>\n",
       "      <td>54.9</td>\n",
       "      <td>1.2</td>\n",
       "      <td>26.6</td>\n",
       "      <td>120</td>\n",
       "      <td>41</td>\n",
       "    </tr>\n",
       "    <tr>\n",
       "      <th>Bleu</th>\n",
       "      <td>342</td>\n",
       "      <td>336.0</td>\n",
       "      <td>211.1</td>\n",
       "      <td>28.9</td>\n",
       "      <td>37.1</td>\n",
       "      <td>27.5</td>\n",
       "      <td>20.2</td>\n",
       "      <td>90</td>\n",
       "      <td>27</td>\n",
       "    </tr>\n",
       "    <tr>\n",
       "      <th>Camembert</th>\n",
       "      <td>264</td>\n",
       "      <td>314.0</td>\n",
       "      <td>215.9</td>\n",
       "      <td>19.5</td>\n",
       "      <td>103.0</td>\n",
       "      <td>36.4</td>\n",
       "      <td>23.4</td>\n",
       "      <td>60</td>\n",
       "      <td>20</td>\n",
       "    </tr>\n",
       "  </tbody>\n",
       "</table>\n",
       "</div>"
      ],
      "text/plain": [
       "             calories  sodium  calcium  lipides  retinol  folates  proteines  \\\n",
       "Fromages                                                                       \n",
       "CarredelEst       314   353.5     72.6     26.3     51.6     30.3       21.0   \n",
       "Babybel           314   238.0    209.8     25.1     63.7      6.4       22.6   \n",
       "Beaufort          401   112.0    259.4     33.3     54.9      1.2       26.6   \n",
       "Bleu              342   336.0    211.1     28.9     37.1     27.5       20.2   \n",
       "Camembert         264   314.0    215.9     19.5    103.0     36.4       23.4   \n",
       "\n",
       "             cholesterol  magnesium  \n",
       "Fromages                             \n",
       "CarredelEst           70         20  \n",
       "Babybel               70         27  \n",
       "Beaufort             120         41  \n",
       "Bleu                  90         27  \n",
       "Camembert             60         20  "
      ]
     },
     "execution_count": 68,
     "metadata": {},
     "output_type": "execute_result"
    }
   ],
   "source": [
    "fromage.head()"
   ]
  },
  {
   "cell_type": "code",
   "execution_count": 69,
   "id": "6d9ed6b0",
   "metadata": {},
   "outputs": [
    {
     "name": "stdout",
     "output_type": "stream",
     "text": [
      "(29, 9)\n"
     ]
    }
   ],
   "source": [
    "print(fromage.shape)"
   ]
  },
  {
   "cell_type": "code",
   "execution_count": 70,
   "id": "06257eb5",
   "metadata": {},
   "outputs": [
    {
     "data": {
      "text/html": [
       "<div>\n",
       "<style scoped>\n",
       "    .dataframe tbody tr th:only-of-type {\n",
       "        vertical-align: middle;\n",
       "    }\n",
       "\n",
       "    .dataframe tbody tr th {\n",
       "        vertical-align: top;\n",
       "    }\n",
       "\n",
       "    .dataframe thead th {\n",
       "        text-align: right;\n",
       "    }\n",
       "</style>\n",
       "<table border=\"1\" class=\"dataframe\">\n",
       "  <thead>\n",
       "    <tr style=\"text-align: right;\">\n",
       "      <th></th>\n",
       "      <th>calories</th>\n",
       "      <th>sodium</th>\n",
       "      <th>calcium</th>\n",
       "      <th>lipides</th>\n",
       "      <th>retinol</th>\n",
       "      <th>folates</th>\n",
       "      <th>proteines</th>\n",
       "      <th>cholesterol</th>\n",
       "      <th>magnesium</th>\n",
       "    </tr>\n",
       "  </thead>\n",
       "  <tbody>\n",
       "    <tr>\n",
       "      <th>count</th>\n",
       "      <td>29.000000</td>\n",
       "      <td>29.000000</td>\n",
       "      <td>29.000000</td>\n",
       "      <td>29.000000</td>\n",
       "      <td>29.000000</td>\n",
       "      <td>29.000000</td>\n",
       "      <td>29.000000</td>\n",
       "      <td>29.000000</td>\n",
       "      <td>29.000000</td>\n",
       "    </tr>\n",
       "    <tr>\n",
       "      <th>mean</th>\n",
       "      <td>300.034483</td>\n",
       "      <td>210.086207</td>\n",
       "      <td>185.734483</td>\n",
       "      <td>24.158621</td>\n",
       "      <td>67.562069</td>\n",
       "      <td>13.010345</td>\n",
       "      <td>20.168966</td>\n",
       "      <td>74.586207</td>\n",
       "      <td>26.965517</td>\n",
       "    </tr>\n",
       "    <tr>\n",
       "      <th>std</th>\n",
       "      <td>91.914356</td>\n",
       "      <td>108.678923</td>\n",
       "      <td>72.528882</td>\n",
       "      <td>8.129642</td>\n",
       "      <td>24.163098</td>\n",
       "      <td>11.723339</td>\n",
       "      <td>6.959788</td>\n",
       "      <td>28.245755</td>\n",
       "      <td>11.318388</td>\n",
       "    </tr>\n",
       "    <tr>\n",
       "      <th>min</th>\n",
       "      <td>70.000000</td>\n",
       "      <td>22.000000</td>\n",
       "      <td>72.600000</td>\n",
       "      <td>3.400000</td>\n",
       "      <td>37.100000</td>\n",
       "      <td>1.200000</td>\n",
       "      <td>4.100000</td>\n",
       "      <td>10.000000</td>\n",
       "      <td>10.000000</td>\n",
       "    </tr>\n",
       "    <tr>\n",
       "      <th>25%</th>\n",
       "      <td>292.000000</td>\n",
       "      <td>140.000000</td>\n",
       "      <td>132.900000</td>\n",
       "      <td>23.400000</td>\n",
       "      <td>51.600000</td>\n",
       "      <td>4.900000</td>\n",
       "      <td>17.800000</td>\n",
       "      <td>70.000000</td>\n",
       "      <td>20.000000</td>\n",
       "    </tr>\n",
       "    <tr>\n",
       "      <th>50%</th>\n",
       "      <td>321.000000</td>\n",
       "      <td>223.000000</td>\n",
       "      <td>202.300000</td>\n",
       "      <td>26.300000</td>\n",
       "      <td>62.300000</td>\n",
       "      <td>6.400000</td>\n",
       "      <td>21.000000</td>\n",
       "      <td>80.000000</td>\n",
       "      <td>26.000000</td>\n",
       "    </tr>\n",
       "    <tr>\n",
       "      <th>75%</th>\n",
       "      <td>355.000000</td>\n",
       "      <td>276.000000</td>\n",
       "      <td>220.500000</td>\n",
       "      <td>29.100000</td>\n",
       "      <td>76.400000</td>\n",
       "      <td>21.100000</td>\n",
       "      <td>23.400000</td>\n",
       "      <td>90.000000</td>\n",
       "      <td>30.000000</td>\n",
       "    </tr>\n",
       "    <tr>\n",
       "      <th>max</th>\n",
       "      <td>406.000000</td>\n",
       "      <td>432.000000</td>\n",
       "      <td>334.600000</td>\n",
       "      <td>33.300000</td>\n",
       "      <td>150.500000</td>\n",
       "      <td>36.400000</td>\n",
       "      <td>35.700000</td>\n",
       "      <td>120.000000</td>\n",
       "      <td>51.000000</td>\n",
       "    </tr>\n",
       "  </tbody>\n",
       "</table>\n",
       "</div>"
      ],
      "text/plain": [
       "         calories      sodium     calcium    lipides     retinol    folates  \\\n",
       "count   29.000000   29.000000   29.000000  29.000000   29.000000  29.000000   \n",
       "mean   300.034483  210.086207  185.734483  24.158621   67.562069  13.010345   \n",
       "std     91.914356  108.678923   72.528882   8.129642   24.163098  11.723339   \n",
       "min     70.000000   22.000000   72.600000   3.400000   37.100000   1.200000   \n",
       "25%    292.000000  140.000000  132.900000  23.400000   51.600000   4.900000   \n",
       "50%    321.000000  223.000000  202.300000  26.300000   62.300000   6.400000   \n",
       "75%    355.000000  276.000000  220.500000  29.100000   76.400000  21.100000   \n",
       "max    406.000000  432.000000  334.600000  33.300000  150.500000  36.400000   \n",
       "\n",
       "       proteines  cholesterol  magnesium  \n",
       "count  29.000000    29.000000  29.000000  \n",
       "mean   20.168966    74.586207  26.965517  \n",
       "std     6.959788    28.245755  11.318388  \n",
       "min     4.100000    10.000000  10.000000  \n",
       "25%    17.800000    70.000000  20.000000  \n",
       "50%    21.000000    80.000000  26.000000  \n",
       "75%    23.400000    90.000000  30.000000  \n",
       "max    35.700000   120.000000  51.000000  "
      ]
     },
     "execution_count": 70,
     "metadata": {},
     "output_type": "execute_result"
    }
   ],
   "source": [
    "fromage.describe()"
   ]
  },
  {
   "cell_type": "code",
   "execution_count": 71,
   "id": "9d3d4c78",
   "metadata": {},
   "outputs": [
    {
     "name": "stdout",
     "output_type": "stream",
     "text": [
      "<class 'pandas.core.frame.DataFrame'>\n",
      "Index: 29 entries, CarredelEst to Yaourtlaitent.nat.\n",
      "Data columns (total 9 columns):\n",
      " #   Column       Non-Null Count  Dtype  \n",
      "---  ------       --------------  -----  \n",
      " 0   calories     29 non-null     int64  \n",
      " 1   sodium       29 non-null     float64\n",
      " 2   calcium      29 non-null     float64\n",
      " 3   lipides      29 non-null     float64\n",
      " 4   retinol      29 non-null     float64\n",
      " 5   folates      29 non-null     float64\n",
      " 6   proteines    29 non-null     float64\n",
      " 7   cholesterol  29 non-null     int64  \n",
      " 8   magnesium    29 non-null     int64  \n",
      "dtypes: float64(6), int64(3)\n",
      "memory usage: 2.3+ KB\n"
     ]
    }
   ],
   "source": [
    "fromage.info()"
   ]
  },
  {
   "cell_type": "code",
   "execution_count": 72,
   "id": "f52a0638",
   "metadata": {},
   "outputs": [
    {
     "data": {
      "image/png": "[encoded data removed]",
      "text/plain": [
       "<Figure size 432x288 with 81 Axes>"
      ]
     },
     "metadata": {
      "needs_background": "light"
     },
     "output_type": "display_data"
    }
   ],
   "source": [
    "from pandas.plotting import scatter_matrix\n",
    "import matplotlib.pyplot as plt\n",
    "\n",
    "# L'affichage les nuages des points du data set selon les propriétés\n",
    "pd.plotting.scatter_matrix(fromage)\n",
    "plt.show()"
   ]
  },
  {
   "cell_type": "code",
   "execution_count": 73,
   "id": "c0d0e2c5",
   "metadata": {},
   "outputs": [],
   "source": [
    "#supprimer leslignes doublants\n",
    "fromage.drop_duplicates(inplace=True)"
   ]
  },
  {
   "cell_type": "markdown",
   "id": "09baf581",
   "metadata": {},
   "source": [
    "## Classification ascendante hiérarchique"
   ]
  },
  {
   "cell_type": "code",
   "execution_count": 74,
   "id": "1b584b9f",
   "metadata": {},
   "outputs": [
    {
     "data": {
      "text/plain": [
       "array([[ 1.54629966e-01,  1.34296773e+00, -1.58746440e+00,\n",
       "         2.68066256e-01, -6.72289850e-01,  1.50091119e+00,\n",
       "         1.21518677e-01, -1.65242000e-01, -6.26309169e-01],\n",
       "       [ 1.54629966e-01,  2.61392734e-01,  3.37679113e-01,\n",
       "         1.17845552e-01, -1.62662483e-01, -5.73842591e-01,\n",
       "         3.55479948e-01, -1.65242000e-01,  3.10054044e-03],\n",
       "       [ 1.11791739e+00, -9.18507266e-01,  1.03364936e+00,\n",
       "         1.14435370e+00, -5.33300568e-01, -1.02525346e+00,\n",
       "         9.40383125e-01,  1.63626853e+00,  1.26191996e+00],\n",
       "       [ 4.64653504e-01,  1.17909273e+00,  3.55920269e-01,\n",
       "         5.93544448e-01, -1.28300033e+00,  1.25784380e+00,\n",
       "         4.53804189e-03,  5.55362210e-01,  3.10054044e-03],\n",
       "       [-3.98983494e-01,  9.73078448e-01,  4.23272229e-01,\n",
       "        -5.83184399e-01,  1.49257351e+00,  2.03045086e+00,\n",
       "         4.72460583e-01, -5.25544105e-01, -6.26309169e-01],\n",
       "       [ 7.41460234e-01,  4.29949877e-01,  1.09819499e+00,\n",
       "         5.81026056e-01, -7.90220150e-01, -6.34609438e-01,\n",
       "         4.13970266e-01,  5.55362210e-01,  2.72847559e-01],\n",
       "       [ 4.86798043e-01, -1.69364409e-01, -1.38260219e+00,\n",
       "         4.68360528e-01,  9.49251773e-01,  2.02176988e+00,\n",
       "        -9.78200141e-02,  1.95060105e-01,  8.12341595e-01],\n",
       "       [-8.89599560e-02,  6.17235591e-01, -7.41355405e-01,\n",
       "         1.55400728e-01,  2.05695423e+00,  1.69189271e+00,\n",
       "        -3.46403864e-01, -1.65242000e-01, -1.76730805e-01],\n",
       "       [ 1.17327873e+00, -3.56650123e-01, -4.81914883e-02,\n",
       "         1.04420656e+00,  3.72235663e-01, -7.04057263e-01,\n",
       "         8.52647648e-01,  1.27596642e+00,  9.30162132e-02],\n",
       "       [ 1.09577285e+00, -1.10579298e+00,  4.87817857e-01,\n",
       "         1.03168817e+00, -4.91182604e-01, -1.01657248e+00,\n",
       "         1.32057019e+00,  1.63626853e+00,  2.16107669e+00],\n",
       "       [ 8.81963513e-02,  1.11564163e-01, -1.49485545e+00,\n",
       "         1.80437512e-01, -1.66874279e-01,  7.02261199e-01,\n",
       "         4.84057802e-02,  1.95060105e-01, -1.25571888e+00],\n",
       "       [ 2.98569466e-01, -5.81392980e-01,  1.21325459e+00,\n",
       "         6.77719842e-02, -7.84265541e-02, -6.51971394e-01,\n",
       "         6.62554116e-01,  1.95060105e-01,  1.53166698e+00],\n",
       "       [ 8.63255196e-01, -1.40545012e+00,  1.71839428e+00,\n",
       "         6.56136408e-01, -4.74335418e-01, -9.21081717e-01,\n",
       "         1.34981535e+00,  1.27596642e+00,  1.62158265e+00],\n",
       "       [-1.04117511e+00, -4.69021552e-01, -1.58465807e+00,\n",
       "        -7.08368319e-01,  3.49317681e+00,  1.56167804e+00,\n",
       "        -1.32611669e+00, -8.85846210e-01, -9.85971860e-01],\n",
       "       [-8.89599560e-02,  1.68476416e+00, -2.41828372e-01,\n",
       "        -1.98567597e-02,  4.14353627e-01, -6.51971394e-01,\n",
       "        -4.92629658e-01, -1.65242000e-01, -6.26309169e-01],\n",
       "       [-2.43628103e+00, -1.58337155e+00, -5.53331185e-01,\n",
       "        -2.58612712e+00, -7.39678593e-01,  6.06770439e-01,\n",
       "        -1.73554891e+00, -2.32705463e+00, -1.43555022e+00],\n",
       "       [-2.04875161e+00, -1.73320012e+00, -1.27596158e+00,\n",
       "        -2.04783626e+00, -1.37391704e-01,  8.32475871e-01,\n",
       "        -1.92564244e+00, -1.60645042e+00, -1.52546590e+00],\n",
       "       [ 4.20364427e-01,  9.44985591e-01,  7.15130720e-01,\n",
       "         6.18581232e-01, -8.78667875e-01, -8.16909979e-01,\n",
       "         3.37832007e-02,  5.55362210e-01,  1.17200429e+00],\n",
       "       [ 5.20014850e-01,  7.01514163e-01,  4.66770369e-01,\n",
       "         6.68654800e-01, -4.19582064e-01, -6.25928460e-01,\n",
       "         5.01705742e-01,  1.95060105e-01,  2.72847559e-01],\n",
       "       [ 8.96472003e-01,  2.80121305e-01,  2.08883006e+00,\n",
       "         4.18286960e-01,  9.45039977e-01, -6.78014329e-01,\n",
       "         2.27103785e+00,  1.95060105e-01,  1.71149832e+00],\n",
       "       [-1.74980034e+00, -1.76129298e+00, -1.50888711e+00,\n",
       "        -1.72235807e+00, -1.75297872e-01,  6.41494352e-01,\n",
       "        -1.57470054e+00, -1.96675253e+00, -1.52546590e+00],\n",
       "       [-3.81802386e-04,  1.20928448e-01, -4.07401939e-01,\n",
       "        -9.49671117e-02, -6.13324700e-01, -7.82186067e-01,\n",
       "         1.36141257e-01, -1.65242000e-01, -4.46477823e-01],\n",
       "       [ 6.08593004e-01,  2.05207020e-01, -9.58991263e-02,\n",
       "         4.80878920e-01, -6.76501646e-01, -5.39118678e-01,\n",
       "         3.26234789e-01,  5.55362210e-01, -1.76730805e-01],\n",
       "       [ 9.92686205e-02,  5.79778448e-01,  2.32441677e-01,\n",
       "         5.52535922e-02,  2.33246381e-01, -4.26265962e-01,\n",
       "        -6.85748552e-02,  1.95060105e-01,  2.72847559e-01],\n",
       "       [ 7.74677042e-01,  2.07806416e+00, -3.33034151e-01,\n",
       "         8.81467464e-01,  6.71273209e-01,  2.51449023e-02,\n",
       "        -2.14800649e-01,  9.15664316e-01, -1.76730805e-01],\n",
       "       [-2.25263408e-02, -4.76286946e-02,  1.05610002e+00,\n",
       "        -1.07485504e-01, -3.01651765e-01, -5.47799656e-01,\n",
       "         4.57838004e-01, -1.65242000e-01, -8.68151323e-02],\n",
       "       [ 2.32135851e-01,  3.92492734e-01, -8.45189676e-01,\n",
       "         3.93250176e-01, -2.21627632e-01, -5.91204547e-01,\n",
       "         2.38499313e-01,  1.95060105e-01, -6.26309169e-01],\n",
       "       [ 2.32135851e-01, -6.56307266e-01,  4.52738711e-01,\n",
       "         6.43618016e-01, -7.73372964e-01, -8.08229001e-01,\n",
       "        -3.75649023e-01,  1.95060105e-01,  2.72847559e-01],\n",
       "       [-2.54700372e+00, -1.11515727e+00,  4.20465897e-01,\n",
       "        -2.59864551e+00, -1.03871614e+00, -8.77676826e-01,\n",
       "        -2.34969725e+00, -2.21896400e+00, -1.16580321e+00]])"
      ]
     },
     "execution_count": 74,
     "metadata": {},
     "output_type": "execute_result"
    }
   ],
   "source": [
    "#centrage réduction des données\n",
    "# normalisation\n",
    "from sklearn import preprocessing\n",
    "fromage_cr = preprocessing.scale(fromage)\n",
    "fromage_cr"
   ]
  },
  {
   "cell_type": "code",
   "execution_count": 75,
   "id": "f1fe8cec",
   "metadata": {},
   "outputs": [],
   "source": [
    "#librairies pour la CAH\n",
    "import matplotlib.pyplot as plt\n",
    "from scipy.cluster.hierarchy import dendrogram, linkage, fcluster"
   ]
  },
  {
   "cell_type": "code",
   "execution_count": 76,
   "id": "00f6c000",
   "metadata": {},
   "outputs": [],
   "source": [
    "#générer la matrice des liens\n",
    "Z = linkage(fromage_cr,method='ward',metric='euclidean')\n"
   ]
  },
  {
   "cell_type": "code",
   "execution_count": 77,
   "id": "367a536f",
   "metadata": {},
   "outputs": [
    {
     "data": {
      "image/png": "[encoded data removed]",
      "text/plain": [
       "<Figure size 432x288 with 1 Axes>"
      ]
     },
     "metadata": {
      "needs_background": "light"
     },
     "output_type": "display_data"
    }
   ],
   "source": [
    "#affichage du dendrogramme\n",
    "plt.title(\"CAH\")\n",
    "dendrogram(Z,labels=fromage.index,orientation='right',color_threshold=0)\n",
    "plt.show()\n"
   ]
  },
  {
   "cell_type": "code",
   "execution_count": 78,
   "id": "55f31494",
   "metadata": {},
   "outputs": [
    {
     "data": {
      "image/png": "[encoded data removed]",
      "text/plain": [
       "<Figure size 432x288 with 1 Axes>"
      ]
     },
     "metadata": {
      "needs_background": "light"
     },
     "output_type": "display_data"
    }
   ],
   "source": [
    "#matérialisation des 4 classes (hauteur t = 7)\n",
    "plt.title('CAH avec matérialisation des 4 classes')\n",
    "dendrogram(Z,labels=fromage.index,orientation='right',color_threshold=7)\n",
    "plt.show()"
   ]
  },
  {
   "cell_type": "code",
   "execution_count": 79,
   "id": "f087e832",
   "metadata": {},
   "outputs": [
    {
     "name": "stdout",
     "output_type": "stream",
     "text": [
      "[4 4 3 4 2 4 2 2 4 3 4 4 3 2 4 1 1 4 4 3 1 4 4 4 4 4 4 4 1]\n"
     ]
    }
   ],
   "source": [
    "#découpage à la hauteur t = 7 ==> 4 identifiants de groupes obtenus\n",
    "groupes_cah = fcluster(Z,t=7,criterion='distance')\n",
    "print(groupes_cah)"
   ]
  },
  {
   "cell_type": "code",
   "execution_count": 80,
   "id": "8c93e12e",
   "metadata": {},
   "outputs": [],
   "source": [
    "#index triés des groupes\n",
    "import numpy as np\n",
    "idg = np.argsort(groupes_cah)\n"
   ]
  },
  {
   "cell_type": "code",
   "execution_count": 81,
   "id": "df8b2f51",
   "metadata": {},
   "outputs": [
    {
     "name": "stdout",
     "output_type": "stream",
     "text": [
      "             Fromages\n",
      "1  Yaourtlaitent.nat.\n",
      "1      Fr.frais20nat.\n",
      "1       Petitsuisse40\n",
      "1      Fr.frais40nat.\n",
      "2  Fr.chevrepatemolle\n",
      "2           Camembert\n",
      "2           Chabichou\n",
      "2            Chaource\n",
      "3            Emmental\n",
      "3            Parmesan\n",
      "3            Beaufort\n",
      "3               Comte\n",
      "4            Pyrenees\n",
      "4         PontlEveque\n",
      "4          Rocquefort\n",
      "4         SaintPaulin\n",
      "4                Tome\n",
      "4           Reblochon\n",
      "4         CarredelEst\n",
      "4           Maroilles\n",
      "4            Vacherin\n",
      "4                Edam\n",
      "4         Coulomniers\n",
      "4             Cheddar\n",
      "4              Cantal\n",
      "4                Bleu\n",
      "4             Babybel\n",
      "4             Morbier\n",
      "4         Fr.fondu.45\n"
     ]
    }
   ],
   "source": [
    "#affichage des observations et leurs groupes\n",
    "print(pandas.DataFrame(fromage.index[idg],groupes_cah[idg]))"
   ]
  },
  {
   "cell_type": "markdown",
   "id": "3ef3d4a3",
   "metadata": {},
   "source": [
    "## Kmeans"
   ]
  },
  {
   "cell_type": "code",
   "execution_count": 82,
   "id": "23712b46",
   "metadata": {},
   "outputs": [
    {
     "name": "stdout",
     "output_type": "stream",
     "text": [
      "73.00278330776283\n"
     ]
    }
   ],
   "source": [
    "#k-means sur les données centrées et réduites\n",
    "from sklearn import cluster\n",
    "kmeans = cluster.KMeans(n_clusters=4)\n",
    "kmeans.fit(fromage_cr)\n",
    "\n",
    "print(kmeans.inertia_)"
   ]
  },
  {
   "cell_type": "code",
   "execution_count": 83,
   "id": "f55d321f",
   "metadata": {},
   "outputs": [
    {
     "name": "stdout",
     "output_type": "stream",
     "text": [
      "             Fromages\n",
      "0         CarredelEst\n",
      "0           Camembert\n",
      "0           Chabichou\n",
      "0            Chaource\n",
      "0         Coulomniers\n",
      "0  Fr.chevrepatemolle\n",
      "1                Tome\n",
      "1         SaintPaulin\n",
      "1          Rocquefort\n",
      "1           Reblochon\n",
      "1            Pyrenees\n",
      "1         PontlEveque\n",
      "1             Morbier\n",
      "1           Maroilles\n",
      "1         Fr.fondu.45\n",
      "1             Cheddar\n",
      "1              Cantal\n",
      "1                Bleu\n",
      "1             Babybel\n",
      "1            Vacherin\n",
      "2      Fr.frais20nat.\n",
      "2      Fr.frais40nat.\n",
      "2       Petitsuisse40\n",
      "2  Yaourtlaitent.nat.\n",
      "3            Emmental\n",
      "3                Edam\n",
      "3            Parmesan\n",
      "3               Comte\n",
      "3            Beaufort\n"
     ]
    }
   ],
   "source": [
    "#index triés des groupes\n",
    "idk = np.argsort(kmeans.labels_)\n",
    "\n",
    "#affichage des observations et leurs groupes\n",
    "print(pandas.DataFrame(fromage.index[idk],kmeans.labels_[idk]))"
   ]
  },
  {
   "cell_type": "code",
   "execution_count": 84,
   "id": "5dfb8f27",
   "metadata": {},
   "outputs": [
    {
     "name": "stdout",
     "output_type": "stream",
     "text": [
      "[[2.22366092 2.91923811 5.52563871 5.21699713]\n",
      " [3.0178739  0.74374718 5.19015189 2.79338133]\n",
      " [5.16141204 2.85539991 7.50534896 1.14539172]\n",
      " [3.23696124 2.10536305 6.12458901 3.90039468]\n",
      " [1.93343014 3.54292429 5.40377152 5.1027633 ]\n",
      " [4.02486207 1.19391692 6.29601131 2.20069332]\n",
      " [1.77869718 3.38720801 5.92595629 4.53017038]\n",
      " [1.03237227 3.45802005 5.55487006 5.09064158]\n",
      " [3.74803439 1.95305264 6.82455372 2.29131322]\n",
      " [5.4424737  3.42031134 7.84252968 1.35227289]\n",
      " [1.95795563 2.48915384 4.84286038 4.74937695]\n",
      " [4.22922422 2.25403853 6.12567693 1.34428719]\n",
      " [5.52630163 3.39604145 7.47787998 0.90212763]\n",
      " [3.09730277 5.54292312 5.01044821 7.09387676]\n",
      " [2.837017   1.88749301 5.28233144 4.44924466]\n",
      " [5.33113973 6.00270259 0.682889   7.60942068]\n",
      " [4.5471731  5.60590975 1.00738319 7.3223388 ]\n",
      " [4.19758324 1.52552562 6.46351268 2.4532874 ]\n",
      " [3.47104401 0.6514557  6.06067377 2.50066762]\n",
      " [5.23422932 3.59516018 7.94344639 2.11236126]\n",
      " [4.37575251 5.39884861 1.21455139 7.13235133]\n",
      " [3.08206033 1.26131038 4.69330459 3.51801823]\n",
      " [3.27948183 0.71278327 5.71102419 2.80940396]\n",
      " [2.73578068 0.80560526 5.31181084 2.93523437]\n",
      " [3.01760541 2.18158819 6.81164759 4.22294133]\n",
      " [3.47187566 1.36713154 5.12355504 2.67188675]\n",
      " [2.73493702 1.26085334 5.25486505 3.66952718]\n",
      " [3.79074172 1.50249064 5.27181198 2.63290951]\n",
      " [6.08675576 5.93946504 1.92880158 7.45711265]]\n"
     ]
    }
   ],
   "source": [
    "#distances aux centres de classes des observations\n",
    "print(kmeans.transform(fromage_cr))"
   ]
  },
  {
   "cell_type": "code",
   "execution_count": 85,
   "id": "1a2c04e7",
   "metadata": {},
   "outputs": [
    {
     "data": {
      "text/html": [
       "<div>\n",
       "<style scoped>\n",
       "    .dataframe tbody tr th:only-of-type {\n",
       "        vertical-align: middle;\n",
       "    }\n",
       "\n",
       "    .dataframe tbody tr th {\n",
       "        vertical-align: top;\n",
       "    }\n",
       "\n",
       "    .dataframe thead th {\n",
       "        text-align: right;\n",
       "    }\n",
       "</style>\n",
       "<table border=\"1\" class=\"dataframe\">\n",
       "  <thead>\n",
       "    <tr style=\"text-align: right;\">\n",
       "      <th>col_0</th>\n",
       "      <th>0</th>\n",
       "      <th>1</th>\n",
       "      <th>2</th>\n",
       "      <th>3</th>\n",
       "    </tr>\n",
       "    <tr>\n",
       "      <th>row_0</th>\n",
       "      <th></th>\n",
       "      <th></th>\n",
       "      <th></th>\n",
       "      <th></th>\n",
       "    </tr>\n",
       "  </thead>\n",
       "  <tbody>\n",
       "    <tr>\n",
       "      <th>1</th>\n",
       "      <td>0</td>\n",
       "      <td>0</td>\n",
       "      <td>4</td>\n",
       "      <td>0</td>\n",
       "    </tr>\n",
       "    <tr>\n",
       "      <th>2</th>\n",
       "      <td>4</td>\n",
       "      <td>0</td>\n",
       "      <td>0</td>\n",
       "      <td>0</td>\n",
       "    </tr>\n",
       "    <tr>\n",
       "      <th>3</th>\n",
       "      <td>0</td>\n",
       "      <td>0</td>\n",
       "      <td>0</td>\n",
       "      <td>4</td>\n",
       "    </tr>\n",
       "    <tr>\n",
       "      <th>4</th>\n",
       "      <td>2</td>\n",
       "      <td>14</td>\n",
       "      <td>0</td>\n",
       "      <td>1</td>\n",
       "    </tr>\n",
       "  </tbody>\n",
       "</table>\n",
       "</div>"
      ],
      "text/plain": [
       "col_0  0   1  2  3\n",
       "row_0             \n",
       "1      0   0  4  0\n",
       "2      4   0  0  0\n",
       "3      0   0  0  4\n",
       "4      2  14  0  1"
      ]
     },
     "execution_count": 85,
     "metadata": {},
     "output_type": "execute_result"
    }
   ],
   "source": [
    "#correspondance avec les groupes de la CAH\n",
    "pandas.crosstab(groupes_cah,kmeans.labels_)\n"
   ]
  },
  {
   "cell_type": "code",
   "execution_count": 86,
   "id": "3eb592bb",
   "metadata": {},
   "outputs": [
    {
     "name": "stdout",
     "output_type": "stream",
     "text": [
      "[0.48626255 0.38724166 0.34540073 0.28698257 0.29658271 0.29508403\n",
      " 0.25763159 0.1941921  0.27934828]\n"
     ]
    }
   ],
   "source": [
    "#librairie pour évaluation des partitions\n",
    "from sklearn import metrics\n",
    "\n",
    "#utilisation de la métrique \"silhouette\"\n",
    "#faire varier le nombre de clusters de 2 à 10\n",
    "res = np.arange(9,dtype=\"double\")\n",
    "for k in np.arange(9):\n",
    "    km = cluster.KMeans(n_clusters=k+2)\n",
    "    km.fit(fromage_cr)\n",
    "    res[k] = metrics.silhouette_score(fromage_cr,km.labels_)\n",
    "    \n",
    "print(res)"
   ]
  },
  {
   "cell_type": "code",
   "execution_count": 87,
   "id": "20a37d19",
   "metadata": {},
   "outputs": [
    {
     "data": {
      "image/png": "[encoded data removed]",
      "text/plain": [
       "<Figure size 432x288 with 1 Axes>"
      ]
     },
     "metadata": {
      "needs_background": "light"
     },
     "output_type": "display_data"
    }
   ],
   "source": [
    "#graphique\n",
    "import matplotlib.pyplot as plt\n",
    "plt.title(\"Silhouette\")\n",
    "plt.xlabel(\"# of clusters\")\n",
    "plt.plot(np.arange(2,11,1),res)\n",
    "plt.show()"
   ]
  },
  {
   "cell_type": "code",
   "execution_count": 88,
   "id": "ec234e24",
   "metadata": {},
   "outputs": [],
   "source": [
    "#moyenne par variable\n",
    "m = fromage.mean()\n"
   ]
  },
  {
   "cell_type": "code",
   "execution_count": 89,
   "id": "e39d69b1",
   "metadata": {},
   "outputs": [
    {
     "name": "stdout",
     "output_type": "stream",
     "text": [
      "calories       236550.965517\n",
      "sodium         330711.034483\n",
      "calcium        147292.285517\n",
      "lipides          1850.550345\n",
      "retinol         16347.948276\n",
      "folates          3848.226897\n",
      "proteines        1356.282069\n",
      "cholesterol     22339.034483\n",
      "magnesium        3586.965517\n",
      "dtype: float64\n"
     ]
    }
   ],
   "source": [
    "#TSS\n",
    "TSS = fromage.shape[0]*fromage.var(ddof=0)\n",
    "print(TSS)"
   ]
  },
  {
   "cell_type": "code",
   "execution_count": 90,
   "id": "043bc0c0",
   "metadata": {},
   "outputs": [],
   "source": [
    "#data.frame conditionnellement aux groupes\n",
    "gb = fromage.groupby(kmeans.labels_)"
   ]
  },
  {
   "cell_type": "code",
   "execution_count": 91,
   "id": "de522b50",
   "metadata": {},
   "outputs": [
    {
     "name": "stdout",
     "output_type": "stream",
     "text": [
      "0     6\n",
      "1    14\n",
      "2     4\n",
      "3     5\n",
      "dtype: int64\n"
     ]
    }
   ],
   "source": [
    "#effectifs conditionnels\n",
    "nk = gb.size()\n",
    "print(nk)"
   ]
  },
  {
   "cell_type": "code",
   "execution_count": 92,
   "id": "cf92d3df",
   "metadata": {},
   "outputs": [
    {
     "name": "stdout",
     "output_type": "stream",
     "text": [
      "     calories      sodium  calcium    lipides    retinol    folates  \\\n",
      "0  288.000000  252.916667   110.10  23.866667  95.866667  31.266667   \n",
      "1  334.285714  267.428571   199.70  27.500000  60.050000   7.728571   \n",
      "2  101.750000   44.750000   133.75   6.275000  55.150000  16.475000   \n",
      "3  377.200000  130.400000   278.98  29.460000  64.560000   3.120000   \n",
      "\n",
      "   proteines  cholesterol  magnesium  \n",
      "0  18.883333    68.333333  21.666667  \n",
      "1  21.228571    83.571429  27.142857  \n",
      "2   7.200000    18.250000  11.250000  \n",
      "3  29.120000   102.000000  45.400000  \n"
     ]
    }
   ],
   "source": [
    "#moyennes conditionnelles\n",
    "mk = gb.mean()\n",
    "print(mk)"
   ]
  },
  {
   "cell_type": "code",
   "execution_count": 93,
   "id": "2ad03269",
   "metadata": {},
   "outputs": [],
   "source": [
    "#pour chaque groupe ecart à la moyenne par variable\n",
    "EMk = (mk-m)**2"
   ]
  },
  {
   "cell_type": "code",
   "execution_count": 94,
   "id": "e627150f",
   "metadata": {},
   "outputs": [],
   "source": [
    "#pondéré par les effectifs du groupe\n",
    "EM = EMk.multiply(nk,axis=0)"
   ]
  },
  {
   "cell_type": "code",
   "execution_count": 95,
   "id": "0a89a533",
   "metadata": {},
   "outputs": [
    {
     "name": "stdout",
     "output_type": "stream",
     "text": [
      "calories       204332.558374\n",
      "sodium         198134.447578\n",
      "calcium         91337.127517\n",
      "lipides          1576.637511\n",
      "retinol          6258.237943\n",
      "folates          2927.429492\n",
      "proteines        1099.017164\n",
      "cholesterol     17817.522578\n",
      "magnesium        2855.967898\n",
      "dtype: float64\n"
     ]
    }
   ],
   "source": [
    "#somme des valeurs => BSS\n",
    "BSS = np.sum(EM,axis=0)\n",
    "print(BSS)"
   ]
  },
  {
   "cell_type": "code",
   "execution_count": 96,
   "id": "cce480f1",
   "metadata": {},
   "outputs": [
    {
     "name": "stdout",
     "output_type": "stream",
     "text": [
      "calories       0.863799\n",
      "sodium         0.599117\n",
      "calcium        0.620108\n",
      "lipides        0.851983\n",
      "retinol        0.382815\n",
      "folates        0.760722\n",
      "proteines      0.810316\n",
      "cholesterol    0.797596\n",
      "magnesium      0.796207\n",
      "dtype: float64\n"
     ]
    }
   ],
   "source": [
    "#carré du rapport de corrélation\n",
    "#variance expliquée par l'appartenance aux groupes\n",
    "#pour chaque variable\n",
    "R2 = BSS/TSS\n",
    "print(R2)\n"
   ]
  },
  {
   "cell_type": "code",
   "execution_count": 97,
   "id": "95a9584f",
   "metadata": {},
   "outputs": [],
   "source": [
    "#ACP\n",
    "from sklearn.decomposition import PCA\n",
    "acp = PCA(n_components=2).fit_transform(fromage_cr)\n"
   ]
  },
  {
   "cell_type": "code",
   "execution_count": 98,
   "id": "063a6393",
   "metadata": {},
   "outputs": [
    {
     "data": {
      "image/png": "[encoded data removed]",
      "text/plain": [
       "<Figure size 432x288 with 1 Axes>"
      ]
     },
     "metadata": {
      "needs_background": "light"
     },
     "output_type": "display_data"
    }
   ],
   "source": [
    "#projeter dans le plan factoriel\n",
    "#avec un code couleur selon le groupe\n",
    "for couleur,k in zip(['red','blue','lawngreen','aqua'],[0,1,2,3]):\n",
    "    plt.scatter(acp[kmeans.labels_==k,0],acp[kmeans.labels_==k,1],c=couleur)\n",
    "plt.show() "
   ]
  },
  {
   "cell_type": "code",
   "execution_count": 99,
   "id": "6ff85c1e",
   "metadata": {},
   "outputs": [
    {
     "name": "stdout",
     "output_type": "stream",
     "text": [
      "(23, 9)\n"
     ]
    }
   ],
   "source": [
    "#retirer des observations le groupe n°0 des k-means\n",
    "fromage_subset = fromage.iloc[kmeans.labels_!=0,:]\n",
    "print(fromage_subset.shape)\n",
    "    "
   ]
  },
  {
   "cell_type": "code",
   "execution_count": 100,
   "id": "1ad2a695",
   "metadata": {},
   "outputs": [
    {
     "data": {
      "image/png": "[encoded data removed]",
      "text/plain": [
       "<Figure size 432x288 with 1 Axes>"
      ]
     },
     "metadata": {
      "needs_background": "light"
     },
     "output_type": "display_data"
    }
   ],
   "source": [
    "   \n",
    "#centrer et réduire\n",
    "fromage_subset_cr = preprocessing.scale(fromage_subset)\n",
    "\n",
    "#générer la matrice des liens\n",
    "Z_subset = linkage(fromage_subset_cr,method='ward',metric='euclidean')\n",
    "\n",
    "#cah et affichage du dendrogramme\n",
    "plt.title(\"CAH\")\n",
    "dendrogram(Z_subset,labels=fromage_subset.index,orientation='right',color_threshold=7)\n",
    "plt.show()\n"
   ]
  },
  {
   "cell_type": "code",
   "execution_count": 101,
   "id": "c6fc88b8",
   "metadata": {},
   "outputs": [
    {
     "name": "stdout",
     "output_type": "stream",
     "text": [
      "[3 2 3 3 3 2 3 2 3 1 1 3 3 2 1 3 3 3 3 3 3 3 1]\n"
     ]
    }
   ],
   "source": [
    "#groupes\n",
    "groupes_subset_cah = fcluster(Z_subset,t=7,criterion='distance')\n",
    "print(groupes_subset_cah)"
   ]
  },
  {
   "cell_type": "code",
   "execution_count": 102,
   "id": "29556629",
   "metadata": {},
   "outputs": [],
   "source": [
    "#ACP\n",
    "acp_subset = PCA(n_components=2).fit_transform(fromage_subset_cr)\n"
   ]
  },
  {
   "cell_type": "code",
   "execution_count": 103,
   "id": "b339a3f6",
   "metadata": {},
   "outputs": [
    {
     "data": {
      "image/png": "[encoded data removed]",
      "text/plain": [
       "<Figure size 1296x555.48 with 1 Axes>"
      ]
     },
     "metadata": {
      "needs_background": "light"
     },
     "output_type": "display_data"
    }
   ],
   "source": [
    "#projeter dans le plan factoriel\n",
    "#avec un code couleur selon le groupe\n",
    "plt.figure(figsize=(18,7.715))\n",
    "for couleur,k in zip(['blue','lawngreen','aqua'],[1,2,3]):\n",
    "    plt.scatter(acp_subset[groupes_subset_cah==k,0],acp_subset[groupes_subset_cah==k,1],c=couleur)\n",
    "\n",
    "#mettre les labels des points\n",
    "for i,label in enumerate(fromage_subset.index):\n",
    "    plt.annotate(label,(acp_subset[i,0],acp_subset[i,1]))\n",
    "\n",
    "plt.show()    "
   ]
  },
  {
   "cell_type": "code",
   "execution_count": null,
   "id": "6fe12a2d",
   "metadata": {},
   "outputs": [],
   "source": []
  },
  {
   "cell_type": "code",
   "execution_count": null,
   "id": "87ceba93",
   "metadata": {},
   "outputs": [],
   "source": []
  },
  {
   "cell_type": "code",
   "execution_count": null,
   "id": "e479aab7",
   "metadata": {},
   "outputs": [],
   "source": []
  },
  {
   "cell_type": "code",
   "execution_count": null,
   "id": "5c7431d7",
   "metadata": {},
   "outputs": [],
   "source": []
  }
 ],
 "metadata": {
  "kernelspec": {
   "display_name": "Python 3",
   "language": "python",
   "name": "python3"
  },
  "language_info": {
   "codemirror_mode": {
    "name": "ipython",
    "version": 3
   },
   "file_extension": ".py",
   "mimetype": "text/x-python",
   "name": "python",
   "nbconvert_exporter": "python",
   "pygments_lexer": "ipython3",
   "version": "3.8.8"
  }
 },
 "nbformat": 4,
 "nbformat_minor": 5
}
